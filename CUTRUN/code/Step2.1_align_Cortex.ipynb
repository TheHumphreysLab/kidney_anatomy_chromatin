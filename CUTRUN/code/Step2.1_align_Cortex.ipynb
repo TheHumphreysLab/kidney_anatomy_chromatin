{
 "cells": [
  {
   "cell_type": "code",
   "execution_count": 6,
   "id": "a743a215",
   "metadata": {},
   "outputs": [
    {
     "name": "stdout",
     "output_type": "stream",
     "text": [
      "Tue 16 Jan 2024 06:38:38 PM CST\n",
      "Tue 16 Jan 2024 07:09:42 PM CST\n",
      "Tue 16 Jan 2024 07:20:10 PM CST\n"
     ]
    }
   ],
   "source": [
    "%%bash\n",
    "date\n",
    "\n",
    "########################################\n",
    "##### need to specify ################## \n",
    "hg19_path=/path/to/save/hg19/fasta/\n",
    "projPath=/path/to/save/project/\n",
    "cores=4\n",
    "\n",
    "histNames=(C_H3K27me3 \\\n",
    "           C_H3K4me3 \\\n",
    "           C_IgG) \n",
    "########################################\n",
    "########################################\n",
    "\n",
    "\n",
    "##################################################################\n",
    "## Step 1. fastqc\n",
    "##################################################################\n",
    "outPath=${projPath}/processed_data/CUT_RUN/Part1_alignment/\n",
    "\n",
    "##== FASTQC ==##\n",
    "mkdir -p ${outPath}/fastqFileQC/\n",
    "     \n",
    "# Loop through each histone marker name\n",
    "for histName in \"${histNames[@]}\"\n",
    "do\n",
    "    fastqc -o ${outPath}/fastqFileQC/ -f fastq ${outPath}/fastq/*${histName}*.fastq.gz > ${outPath}/fastqFileQC/${histName}.log 2>&1\n",
    "done\n",
    "\n",
    "##################################################################\n",
    "## Step 2. trim and redo fastqc\n",
    "##################################################################\n",
    "mkdir -p ${outPath}/alignment/trimming\n",
    "\n",
    "# Loop through each histone marker name\n",
    "for histName in \"${histNames[@]}\"\n",
    "do\n",
    "    trim_galore --cores ${cores} --fastqc --paired \\\n",
    "    --output_dir ${outPath}/alignment/trimming/ \\\n",
    "    ${outPath}/fastq/*${histName}*_R1*.fastq.gz \\\n",
    "    ${outPath}/fastq/*${histName}*_R2*.fastq.gz &> ${outPath}/alignment/trimming/${histName}_trimming.log\n",
    "done\n",
    "\n",
    "##################################################################\n",
    "## Step 3. bowtie2 align\n",
    "##################################################################\n",
    "bowtie2Index=${hg19_path}/bowtie2Index\n",
    "\n",
    "mkdir -p ${outPath}/alignment/sam/bowtie2_summary\n",
    "mkdir -p ${outPath}/alignment/bam\n",
    "mkdir -p ${outPath}/alignment/bed\n",
    "mkdir -p ${outPath}/alignment/bedgraph\n",
    "\n",
    "# Loop through each histone marker name\n",
    "for histName in \"${histNames[@]}\"\n",
    "do\n",
    "    bowtie2 --very-sensitive --local --very-sensitive-local --no-unal --no-mixed --no-discordant --phred33 \\\n",
    "        -I 10 -X 700 -p ${cores} -x ${bowtie2Index}/btIndex \\\n",
    "        -1 ${outPath}/alignment/trimming/*${histName}*_R1*.fq.gz \\\n",
    "        -2 ${outPath}/alignment/trimming/*${histName}*_R2*.fq.gz \\\n",
    "        -S ${outPath}/alignment/sam/${histName}_bowtie2.sam &> ${outPath}/alignment/sam/bowtie2_summary/${histName}_bowtie2.txt\n",
    "done\n",
    "\n",
    "date"
   ]
  },
  {
   "cell_type": "code",
   "execution_count": null,
   "id": "5205de64",
   "metadata": {},
   "outputs": [],
   "source": []
  }
 ],
 "metadata": {
  "kernelspec": {
   "display_name": "deeptools",
   "language": "python",
   "name": "deeptools"
  },
  "language_info": {
   "codemirror_mode": {
    "name": "ipython",
    "version": 3
   },
   "file_extension": ".py",
   "mimetype": "text/x-python",
   "name": "python",
   "nbconvert_exporter": "python",
   "pygments_lexer": "ipython3",
   "version": "3.10.13"
  }
 },
 "nbformat": 4,
 "nbformat_minor": 5
}
