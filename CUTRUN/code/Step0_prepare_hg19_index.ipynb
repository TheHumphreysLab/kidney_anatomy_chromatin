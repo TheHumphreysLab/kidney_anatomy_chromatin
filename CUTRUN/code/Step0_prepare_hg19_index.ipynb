{
 "cells": [
  {
   "cell_type": "code",
   "execution_count": 3,
   "id": "e1b1cd7b",
   "metadata": {},
   "outputs": [],
   "source": [
    "%%bash\n",
    "date\n",
    "\n",
    "########################################\n",
    "##### need to specify ################## \n",
    "hg19_path=/path/to/save/hg19/fasta/\n",
    "cores=4\n",
    "########################################\n",
    "########################################\n",
    "\n",
    "##################################################################\n",
    "## Step 1. Download hg19 fasta file from UCSC\n",
    "##################################################################\n",
    "mkdir -p ${hg19_path}\n",
    "\n",
    "wget https://hgdownload.cse.ucsc.edu/goldenpath/hg19/bigZips/hg19.fa.gz \\\n",
    "    -P ${hg19_path} &> ${hg19_path}/hg19_download.log\n",
    "\n",
    "##################################################################\n",
    "### Step 1.2 unzip fasta.gz file\n",
    "##################################################################\n",
    "gunzip ${hg19_path}/hg19.fa.gz\n",
    "\n",
    "\n",
    "##################################################################\n",
    "## Step 2. Create index using Bowtie2\n",
    "##################################################################\n",
    "mkdir -p ${hg19_path}/bowtie2Index\n",
    "\n",
    "bowtie2-build --threads ${cores} \\\n",
    "        ${hg19_path}/hg19.fa \\\n",
    "        ${hg19_path}/bowtie2Index/btIndex \\\n",
    "        &> ${hg19_path}/bowtie2Index/build.log\n",
    "        \n",
    "date"
   ]
  },
  {
   "cell_type": "code",
   "execution_count": null,
   "id": "4ec6421f",
   "metadata": {},
   "outputs": [],
   "source": []
  }
 ],
 "metadata": {
  "kernelspec": {
   "display_name": "deeptools",
   "language": "python",
   "name": "deeptools"
  },
  "language_info": {
   "codemirror_mode": {
    "name": "ipython",
    "version": 3
   },
   "file_extension": ".py",
   "mimetype": "text/x-python",
   "name": "python",
   "nbconvert_exporter": "python",
   "pygments_lexer": "ipython3",
   "version": "3.10.13"
  }
 },
 "nbformat": 4,
 "nbformat_minor": 5
}
