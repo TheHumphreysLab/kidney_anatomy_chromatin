{
 "cells": [
  {
   "cell_type": "code",
   "execution_count": 2,
   "id": "351d3c98",
   "metadata": {},
   "outputs": [
    {
     "name": "stdout",
     "output_type": "stream",
     "text": [
      "/usr/bin/bowtie2-align-s version 2.3.5.1\n",
      "64-bit\n",
      "\n",
      "                        Quality-/Adapter-/RRBS-/Speciality-Trimming\n",
      "                                [powered by Cutadapt]\n",
      "                                  version 0.6.4_dev\n",
      "\n",
      "                               Last update: 24 09 2019\n",
      "\n",
      "samtools 1.10\n",
      "Using htslib 1.10.2-3\n",
      "Copyright (C) 2019 Genome Research Ltd.\n",
      "bedtools v2.30.0\n",
      "bamCoverage 3.5.4\n"
     ]
    }
   ],
   "source": [
    "%%bash\n",
    "\n",
    "bowtie2 --version\n",
    "trim_galore --version\n",
    "samtools --version\n",
    "bedtools --version\n",
    "\n",
    "/home/users/dianli/.conda/envs/deeptools/bin/bamCoverage --version"
   ]
  },
  {
   "cell_type": "code",
   "execution_count": null,
   "id": "40bc7e66",
   "metadata": {},
   "outputs": [],
   "source": []
  }
 ],
 "metadata": {
  "kernelspec": {
   "display_name": "deeptools",
   "language": "python",
   "name": "deeptools"
  },
  "language_info": {
   "codemirror_mode": {
    "name": "ipython",
    "version": 3
   },
   "file_extension": ".py",
   "mimetype": "text/x-python",
   "name": "python",
   "nbconvert_exporter": "python",
   "pygments_lexer": "ipython3",
   "version": "3.10.13"
  }
 },
 "nbformat": 4,
 "nbformat_minor": 5
}
