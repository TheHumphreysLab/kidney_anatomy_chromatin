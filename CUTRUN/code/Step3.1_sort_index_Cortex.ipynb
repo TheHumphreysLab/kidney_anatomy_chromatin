{
 "cells": [
  {
   "cell_type": "markdown",
   "id": "02297e55",
   "metadata": {},
   "source": [
    "### Step 1. Filter sam file to bam file, then sort, index bam file and generate bigwig file"
   ]
  },
  {
   "cell_type": "code",
   "execution_count": 1,
   "id": "2a462aa5",
   "metadata": {},
   "outputs": [
    {
     "name": "stdout",
     "output_type": "stream",
     "text": [
      "Wed 17 Jan 2024 09:44:06 PM CST\n"
     ]
    },
    {
     "name": "stderr",
     "output_type": "stream",
     "text": [
      "[bam_sort_core] merging from 24 files and 8 in-memory blocks...\n",
      "[bam_sort_core] merging from 24 files and 8 in-memory blocks...\n",
      "[bam_sort_core] merging from 40 files and 8 in-memory blocks...\n",
      "[bam_sort_core] merging from 24 files and 8 in-memory blocks...\n"
     ]
    },
    {
     "name": "stdout",
     "output_type": "stream",
     "text": [
      "Wed 17 Jan 2024 11:10:07 PM CST\n"
     ]
    }
   ],
   "source": [
    "%%bash\n",
    "date\n",
    "\n",
    "########################################\n",
    "##### need to specify ################## \n",
    "projPath=/path/to/save/project/\n",
    "cores=4\n",
    "\n",
    "histNames=(C_H3K27me3 \\\n",
    "           C_H3K4me3 \\\n",
    "           C_IgG) \n",
    "########################################\n",
    "########################################\n",
    "\n",
    "outPath=${projPath}/processed_data/CUT_RUN/Part1_alignment/\n",
    "\n",
    "mkdir -p ${outPath}/alignment/bigwig \n",
    "\n",
    "for histName in \"${histNames[@]}\"\n",
    "do\n",
    "    ## Filter and keep the mapped read pairs\n",
    "    samtools view -@ ${cores} -bS -F 0x04 ${outPath}/alignment/sam/${histName}_bowtie2.sam > ${outPath}/alignment/bam/${histName}_bowtie2.mapped.bam \n",
    "\n",
    "    samtools sort -@ ${cores} \\\n",
    "        -o ${outPath}/alignment/bam/${histName}.sorted.bam \\\n",
    "        ${outPath}/alignment/bam/${histName}_bowtie2.mapped.bam\n",
    "        \n",
    "    samtools index -@ ${cores} ${outPath}/alignment/bam/${histName}.sorted.bam                                                                                                              \n",
    "    bamCoverage \\\n",
    "    -b ${outPath}/alignment/bam/${histName}.sorted.bam \\\n",
    "    -o ${outPath}/alignment/bigwig/${histName}_raw.bw \\\n",
    "    &> ${outPath}/alignment/bigwig/${histName}_raw.bw.log\n",
    "\n",
    "done           \n",
    "date"
   ]
  },
  {
   "cell_type": "code",
   "execution_count": null,
   "id": "3c5f0714",
   "metadata": {},
   "outputs": [],
   "source": []
  }
 ],
 "metadata": {
  "kernelspec": {
   "display_name": "deeptools",
   "language": "python",
   "name": "deeptools"
  },
  "language_info": {
   "codemirror_mode": {
    "name": "ipython",
    "version": 3
   },
   "file_extension": ".py",
   "mimetype": "text/x-python",
   "name": "python",
   "nbconvert_exporter": "python",
   "pygments_lexer": "ipython3",
   "version": "3.10.13"
  }
 },
 "nbformat": 4,
 "nbformat_minor": 5
}
